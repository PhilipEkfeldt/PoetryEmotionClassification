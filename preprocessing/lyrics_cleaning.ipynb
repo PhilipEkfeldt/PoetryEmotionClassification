{
 "cells": [
  {
   "cell_type": "code",
   "execution_count": 67,
   "metadata": {},
   "outputs": [],
   "source": [
    "import preprocess_tools as pt"
   ]
  },
  {
   "cell_type": "code",
   "execution_count": 68,
   "metadata": {},
   "outputs": [],
   "source": [
    "import pandas as pd"
   ]
  },
  {
   "cell_type": "code",
   "execution_count": 69,
   "metadata": {},
   "outputs": [],
   "source": [
    "lyrics = pd.read_csv(\"../Data/final_unformated_lyrics.csv\")"
   ]
  },
  {
   "cell_type": "code",
   "execution_count": 70,
   "metadata": {},
   "outputs": [],
   "source": [
    "lyrics[\"length\"] = lyrics[\"lyrics\"].str.len()"
   ]
  },
  {
   "cell_type": "code",
   "execution_count": null,
   "metadata": {},
   "outputs": [],
   "source": []
  },
  {
   "cell_type": "code",
   "execution_count": 71,
   "metadata": {},
   "outputs": [],
   "source": [
    "## for some reason the lyric for this one was a Karl Marx chapter... Copied manually from Genius instead\n",
    "lyrics.at[4869, \"lyrics\"] = \"[Verse 1] \\\n",
    "Wait in line \\\n",
    "'Til your time \\\n",
    "Ticking clock \\\n",
    "Everyone stop Everyone's saying different things to me Different things to me Everyone's saying different things to me Different things to me\\\n",
    "Do you believe \\\n",
    "In what you see? \\\n",
    "There doesn't seem to be \\\n",
    "Anybody else who agrees with me \\\n",
    "\\\n",
    "[Chorus] \\\n",
    "Do you believe \\\n",
    "In what you see? \\\n",
    "Motionless wheel \\\n",
    "Nothing is real \\\n",
    "Wasting my time \\\n",
    "In the waiting line \\\n",
    "Do you believe \\\n",
    "In what you see? \\\n",
    "\\\n",
    "[Verse 2] \\\n",
    "Nine to five \\\n",
    "Living lies \\\n",
    "Everyday\\\n",
    "Stealing time\\\n",
    "\\\n",
    "Everyone's taking everything they can\\\n",
    "Everything they can\\\n",
    "Everyone's taking everything they can\\\n",
    "Everything they can\\\n",
    "\\\n",
    "[Pre-Chorus]\\\n",
    "Do you believe\\\n",
    "In what you see\\\n",
    "There doesn't seem to be\\\n",
    "Anybody else who agrees with me\\\n",
    "\\\n",
    "[Chorus]\\\n",
    "Do you believe\\\n",
    "In what you see?\\\n",
    "Motionless wheel\\\n",
    "Nothing is real\\\n",
    "Wasting my time\\\n",
    "In the waiting line\\\n",
    "Do you believe in\\\n",
    "In what you see?\\\n",
    "\\\n",
    "[Bridge]\\\n",
    "Ah and I'll shout and I'll scream\\\n",
    "But I'd rather not have seen\\\n",
    "And I'll hide away for another day\\\n",
    "\\\n",
    "[Chorus]\\\n",
    "Do you believe\\\n",
    "In what you see?\\\n",
    "Motionless wheel\\\n",
    "Nothing is real\\\n",
    "Wasting my time\\\n",
    "In the waiting line\\\n",
    "Do you believe in\\\n",
    "In what you see?\\\n",
    "\\\n",
    "[Outro]\\\n",
    "Everyone's saying different things to me\\\n",
    "Different things to me\\\n",
    "Different things to me\\\n",
    "Different things to me\\\n",
    "Different things to me\\\n",
    "Everyone's taking everything they can\\\n",
    "Everything they can\""
   ]
  },
  {
   "cell_type": "code",
   "execution_count": 72,
   "metadata": {},
   "outputs": [],
   "source": [
    "lyrics[\"cleaned\"] = lyrics[\"lyrics\"].apply(pt.clean_lyrics)"
   ]
  },
  {
   "cell_type": "code",
   "execution_count": 75,
   "metadata": {},
   "outputs": [],
   "source": [
    "pd.set_option('display.max_rows', 500)\n",
    "lyrics_new = lyrics.sort_values(\"length\", ascending=False)[100:]"
   ]
  },
  {
   "cell_type": "code",
   "execution_count": 76,
   "metadata": {},
   "outputs": [
    {
     "data": {
      "text/html": [
       "<div>\n",
       "<style scoped>\n",
       "    .dataframe tbody tr th:only-of-type {\n",
       "        vertical-align: middle;\n",
       "    }\n",
       "\n",
       "    .dataframe tbody tr th {\n",
       "        vertical-align: top;\n",
       "    }\n",
       "\n",
       "    .dataframe thead th {\n",
       "        text-align: right;\n",
       "    }\n",
       "</style>\n",
       "<table border=\"1\" class=\"dataframe\">\n",
       "  <thead>\n",
       "    <tr style=\"text-align: right;\">\n",
       "      <th></th>\n",
       "      <th>Unnamed: 0</th>\n",
       "      <th>Artist</th>\n",
       "      <th>Song</th>\n",
       "      <th>lyrics</th>\n",
       "      <th>y</th>\n",
       "      <th>is_en</th>\n",
       "      <th>length</th>\n",
       "      <th>cleaned</th>\n",
       "    </tr>\n",
       "  </thead>\n",
       "  <tbody>\n",
       "    <tr>\n",
       "      <th>476</th>\n",
       "      <td>483</td>\n",
       "      <td>Big Country</td>\n",
       "      <td>The Storm</td>\n",
       "      <td>THE week following Christmas brought in a thaw...</td>\n",
       "      <td>-1</td>\n",
       "      <td>True</td>\n",
       "      <td>6907</td>\n",
       "      <td>THE week following Christmas brought in a thaw...</td>\n",
       "    </tr>\n",
       "    <tr>\n",
       "      <th>1334</th>\n",
       "      <td>1363</td>\n",
       "      <td>Eminem</td>\n",
       "      <td>Stan</td>\n",
       "      <td>[Produced by Mark the 45 King]\\n\\n[Chorus: Did...</td>\n",
       "      <td>-1</td>\n",
       "      <td>True</td>\n",
       "      <td>6661</td>\n",
       "      <td>My teas gone cold Im wondering why I got out o...</td>\n",
       "    </tr>\n",
       "    <tr>\n",
       "      <th>4290</th>\n",
       "      <td>4387</td>\n",
       "      <td>The Germs</td>\n",
       "      <td>Forming</td>\n",
       "      <td>(This is a news flash folks, we interrupt this...</td>\n",
       "      <td>-1</td>\n",
       "      <td>True</td>\n",
       "      <td>6504</td>\n",
       "      <td>This is a news flash folks we interrupt this p...</td>\n",
       "    </tr>\n",
       "    <tr>\n",
       "      <th>2684</th>\n",
       "      <td>2756</td>\n",
       "      <td>Meat Loaf</td>\n",
       "      <td>Paradise By The Dashboard Light</td>\n",
       "      <td>1. PARADISE\\nBOY: Meat Loaf\\nI remember every ...</td>\n",
       "      <td>1</td>\n",
       "      <td>True</td>\n",
       "      <td>6391</td>\n",
       "      <td>1 PARADISE BOY Meat Loaf I remember every litt...</td>\n",
       "    </tr>\n",
       "    <tr>\n",
       "      <th>4324</th>\n",
       "      <td>4421</td>\n",
       "      <td>The Killers</td>\n",
       "      <td>A White Demon Love Song (Soundtrack Album Vers...</td>\n",
       "      <td>Infinite\\nW.E.G.O. (Interlude)\\nIt's Ok\\n313\\n...</td>\n",
       "      <td>-1</td>\n",
       "      <td>True</td>\n",
       "      <td>5947</td>\n",
       "      <td>Infinite WEGO Interlude Its Ok 313 Tonight Max...</td>\n",
       "    </tr>\n",
       "  </tbody>\n",
       "</table>\n",
       "</div>"
      ],
      "text/plain": [
       "      Unnamed: 0       Artist  \\\n",
       "476          483  Big Country   \n",
       "1334        1363       Eminem   \n",
       "4290        4387    The Germs   \n",
       "2684        2756    Meat Loaf   \n",
       "4324        4421  The Killers   \n",
       "\n",
       "                                                   Song  \\\n",
       "476                                           The Storm   \n",
       "1334                                               Stan   \n",
       "4290                                            Forming   \n",
       "2684                    Paradise By The Dashboard Light   \n",
       "4324  A White Demon Love Song (Soundtrack Album Vers...   \n",
       "\n",
       "                                                 lyrics  y  is_en  length  \\\n",
       "476   THE week following Christmas brought in a thaw... -1   True    6907   \n",
       "1334  [Produced by Mark the 45 King]\\n\\n[Chorus: Did... -1   True    6661   \n",
       "4290  (This is a news flash folks, we interrupt this... -1   True    6504   \n",
       "2684  1. PARADISE\\nBOY: Meat Loaf\\nI remember every ...  1   True    6391   \n",
       "4324  Infinite\\nW.E.G.O. (Interlude)\\nIt's Ok\\n313\\n... -1   True    5947   \n",
       "\n",
       "                                                cleaned  \n",
       "476   THE week following Christmas brought in a thaw...  \n",
       "1334  My teas gone cold Im wondering why I got out o...  \n",
       "4290  This is a news flash folks we interrupt this p...  \n",
       "2684  1 PARADISE BOY Meat Loaf I remember every litt...  \n",
       "4324  Infinite WEGO Interlude Its Ok 313 Tonight Max...  "
      ]
     },
     "execution_count": 76,
     "metadata": {},
     "output_type": "execute_result"
    }
   ],
   "source": [
    "lyrics_new.head()"
   ]
  },
  {
   "cell_type": "code",
   "execution_count": 77,
   "metadata": {},
   "outputs": [],
   "source": [
    "lyrics_cleaned = lyrics_new[[\"cleaned\", \"y\"]]"
   ]
  },
  {
   "cell_type": "code",
   "execution_count": 78,
   "metadata": {},
   "outputs": [],
   "source": [
    "lyrics_cleaned.columns = [\"lyrics\", \"label\"]"
   ]
  },
  {
   "cell_type": "code",
   "execution_count": null,
   "metadata": {},
   "outputs": [],
   "source": []
  },
  {
   "cell_type": "code",
   "execution_count": 79,
   "metadata": {},
   "outputs": [],
   "source": [
    "lyrics_cleaned.to_csv(\"../Data/lyrics_cleaned.csv\", index=False)"
   ]
  },
  {
   "cell_type": "code",
   "execution_count": 80,
   "metadata": {},
   "outputs": [
    {
     "data": {
      "text/html": [
       "<div>\n",
       "<style scoped>\n",
       "    .dataframe tbody tr th:only-of-type {\n",
       "        vertical-align: middle;\n",
       "    }\n",
       "\n",
       "    .dataframe tbody tr th {\n",
       "        vertical-align: top;\n",
       "    }\n",
       "\n",
       "    .dataframe thead th {\n",
       "        text-align: right;\n",
       "    }\n",
       "</style>\n",
       "<table border=\"1\" class=\"dataframe\">\n",
       "  <thead>\n",
       "    <tr style=\"text-align: right;\">\n",
       "      <th></th>\n",
       "      <th>lyrics</th>\n",
       "      <th>label</th>\n",
       "    </tr>\n",
       "  </thead>\n",
       "  <tbody>\n",
       "    <tr>\n",
       "      <th>476</th>\n",
       "      <td>THE week following Christmas brought in a thaw...</td>\n",
       "      <td>-1</td>\n",
       "    </tr>\n",
       "    <tr>\n",
       "      <th>1334</th>\n",
       "      <td>My teas gone cold Im wondering why I got out o...</td>\n",
       "      <td>-1</td>\n",
       "    </tr>\n",
       "    <tr>\n",
       "      <th>4290</th>\n",
       "      <td>This is a news flash folks we interrupt this p...</td>\n",
       "      <td>-1</td>\n",
       "    </tr>\n",
       "    <tr>\n",
       "      <th>2684</th>\n",
       "      <td>1 PARADISE BOY Meat Loaf I remember every litt...</td>\n",
       "      <td>1</td>\n",
       "    </tr>\n",
       "    <tr>\n",
       "      <th>4324</th>\n",
       "      <td>Infinite WEGO Interlude Its Ok 313 Tonight Max...</td>\n",
       "      <td>-1</td>\n",
       "    </tr>\n",
       "  </tbody>\n",
       "</table>\n",
       "</div>"
      ],
      "text/plain": [
       "                                                 lyrics  label\n",
       "476   THE week following Christmas brought in a thaw...     -1\n",
       "1334  My teas gone cold Im wondering why I got out o...     -1\n",
       "4290  This is a news flash folks we interrupt this p...     -1\n",
       "2684  1 PARADISE BOY Meat Loaf I remember every litt...      1\n",
       "4324  Infinite WEGO Interlude Its Ok 313 Tonight Max...     -1"
      ]
     },
     "execution_count": 80,
     "metadata": {},
     "output_type": "execute_result"
    }
   ],
   "source": [
    "lyrics_cleaned.head()"
   ]
  },
  {
   "cell_type": "code",
   "execution_count": null,
   "metadata": {},
   "outputs": [],
   "source": []
  }
 ],
 "metadata": {
  "kernelspec": {
   "display_name": "Python 3",
   "language": "python",
   "name": "python3"
  },
  "language_info": {
   "codemirror_mode": {
    "name": "ipython",
    "version": 3
   },
   "file_extension": ".py",
   "mimetype": "text/x-python",
   "name": "python",
   "nbconvert_exporter": "python",
   "pygments_lexer": "ipython3",
   "version": "3.7.1"
  }
 },
 "nbformat": 4,
 "nbformat_minor": 2
}
