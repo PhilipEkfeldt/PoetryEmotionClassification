{
 "cells": [
  {
   "cell_type": "code",
   "execution_count": 1,
   "metadata": {},
   "outputs": [],
   "source": [
    "import text_processing\n",
    "import torch\n",
    "import torch.nn.functional as F\n",
    "from imp import reload\n",
    "import models\n",
    "reload(models)\n",
    "from text_processing import read_split_file_lyrics, BatchWrapper, generate_iterators_lyrics\n",
    "from functions import *\n",
    "import numpy as np\n",
    "import pandas as pd\n",
    "from models import BiLSTMSourceNet"
   ]
  },
  {
   "cell_type": "code",
   "execution_count": 2,
   "metadata": {},
   "outputs": [
    {
     "name": "stdout",
     "output_type": "stream",
     "text": [
      "Reading in the cleaned lyrics data.\n",
      "Creating iterators.\n"
     ]
    }
   ],
   "source": [
    "print(\"Reading in the cleaned lyrics data.\")\n",
    "\n",
    "#Read and split data\n",
    "train_path, val_path = read_split_file_lyrics(\"lyrics_cleaned.csv.gz\",\"\")\n",
    "\n",
    "print(\"Creating iterators.\")\n",
    "#Create iterators\n",
    "torch.cuda.empty_cache() \n",
    "batch_size = 10\n",
    "train_iter, val_iter, TEXT = generate_iterators_lyrics(train_path, val_path, \n",
    "                                                           batch_size = batch_size, device=\"cuda\")\n"
   ]
  },
  {
   "cell_type": "code",
   "execution_count": 14,
   "metadata": {
    "scrolled": true
   },
   "outputs": [
    {
     "name": "stdout",
     "output_type": "stream",
     "text": [
      "Training...\n",
      "Evaluating dev...\n",
      "Epoch 0; Loss 0.278959; Dev loss 0.301836, Dev acc: 0.663542\n",
      "Training...\n",
      "Evaluating dev...\n",
      "Epoch 1; Loss 0.218941; Dev loss 0.274055, Dev acc: 0.709509\n",
      "Training...\n",
      "Evaluating dev...\n",
      "Epoch 2; Loss 0.212264; Dev loss 0.273205, Dev acc: 0.710417\n",
      "Training...\n",
      "Evaluating dev...\n",
      "Epoch 3; Loss 0.289682; Dev loss 0.268850, Dev acc: 0.739812\n",
      "Training...\n",
      "Evaluating dev...\n",
      "Epoch 4; Loss 0.191176; Dev loss 0.279378, Dev acc: 0.723270\n",
      "Training...\n",
      "Evaluating dev...\n",
      "Epoch 5; Loss 0.176935; Dev loss 0.258766, Dev acc: 0.746875\n",
      "Training...\n",
      "Evaluating dev...\n",
      "Epoch 6; Loss 0.153982; Dev loss 0.278248, Dev acc: 0.753396\n",
      "Training...\n",
      "Evaluating dev...\n",
      "Epoch 7; Loss 0.198509; Dev loss 0.282652, Dev acc: 0.733542\n",
      "Training...\n",
      "Evaluating dev...\n",
      "Epoch 8; Loss 0.363775; Dev loss 0.262311, Dev acc: 0.748428\n",
      "Training...\n",
      "Evaluating dev...\n",
      "Epoch 9; Loss 0.458884; Dev loss 0.264616, Dev acc: 0.741667\n",
      "Training...\n",
      "Evaluating dev...\n",
      "Epoch 10; Loss 0.263062; Dev loss 0.307349, Dev acc: 0.745283\n"
     ]
    },
    {
     "ename": "PermissionError",
     "evalue": "[Errno 13] Permission denied: '/SourceNetModelDict_Final'",
     "output_type": "error",
     "traceback": [
      "\u001b[1;31m---------------------------------------------------------------------------\u001b[0m",
      "\u001b[1;31mPermissionError\u001b[0m                           Traceback (most recent call last)",
      "\u001b[1;32m<ipython-input-14-88f209383169>\u001b[0m in \u001b[0;36m<module>\u001b[1;34m\u001b[0m\n\u001b[0;32m     19\u001b[0m                                                       source_flag = True, batch_size = batch_size, verbose = True)\n\u001b[0;32m     20\u001b[0m \u001b[1;33m\u001b[0m\u001b[0m\n\u001b[1;32m---> 21\u001b[1;33m \u001b[0mtorch\u001b[0m\u001b[1;33m.\u001b[0m\u001b[0msave\u001b[0m\u001b[1;33m(\u001b[0m\u001b[0mm_source\u001b[0m\u001b[1;33m.\u001b[0m\u001b[0mstate_dict\u001b[0m\u001b[1;33m(\u001b[0m\u001b[1;33m)\u001b[0m\u001b[1;33m,\u001b[0m \u001b[1;34m\"/SourceNetModelDict_Final\"\u001b[0m\u001b[1;33m)\u001b[0m\u001b[1;33m\u001b[0m\u001b[1;33m\u001b[0m\u001b[0m\n\u001b[0m",
      "\u001b[1;32m~\\Anaconda3\\lib\\site-packages\\torch\\serialization.py\u001b[0m in \u001b[0;36msave\u001b[1;34m(obj, f, pickle_module, pickle_protocol)\u001b[0m\n\u001b[0;32m    222\u001b[0m         \u001b[1;33m>>\u001b[0m\u001b[1;33m>\u001b[0m \u001b[0mtorch\u001b[0m\u001b[1;33m.\u001b[0m\u001b[0msave\u001b[0m\u001b[1;33m(\u001b[0m\u001b[0mx\u001b[0m\u001b[1;33m,\u001b[0m \u001b[0mbuffer\u001b[0m\u001b[1;33m)\u001b[0m\u001b[1;33m\u001b[0m\u001b[1;33m\u001b[0m\u001b[0m\n\u001b[0;32m    223\u001b[0m     \"\"\"\n\u001b[1;32m--> 224\u001b[1;33m     \u001b[1;32mreturn\u001b[0m \u001b[0m_with_file_like\u001b[0m\u001b[1;33m(\u001b[0m\u001b[0mf\u001b[0m\u001b[1;33m,\u001b[0m \u001b[1;34m\"wb\"\u001b[0m\u001b[1;33m,\u001b[0m \u001b[1;32mlambda\u001b[0m \u001b[0mf\u001b[0m\u001b[1;33m:\u001b[0m \u001b[0m_save\u001b[0m\u001b[1;33m(\u001b[0m\u001b[0mobj\u001b[0m\u001b[1;33m,\u001b[0m \u001b[0mf\u001b[0m\u001b[1;33m,\u001b[0m \u001b[0mpickle_module\u001b[0m\u001b[1;33m,\u001b[0m \u001b[0mpickle_protocol\u001b[0m\u001b[1;33m)\u001b[0m\u001b[1;33m)\u001b[0m\u001b[1;33m\u001b[0m\u001b[1;33m\u001b[0m\u001b[0m\n\u001b[0m\u001b[0;32m    225\u001b[0m \u001b[1;33m\u001b[0m\u001b[0m\n\u001b[0;32m    226\u001b[0m \u001b[1;33m\u001b[0m\u001b[0m\n",
      "\u001b[1;32m~\\Anaconda3\\lib\\site-packages\\torch\\serialization.py\u001b[0m in \u001b[0;36m_with_file_like\u001b[1;34m(f, mode, body)\u001b[0m\n\u001b[0;32m    145\u001b[0m             \u001b[1;33m(\u001b[0m\u001b[0msys\u001b[0m\u001b[1;33m.\u001b[0m\u001b[0mversion_info\u001b[0m\u001b[1;33m[\u001b[0m\u001b[1;36m0\u001b[0m\u001b[1;33m]\u001b[0m \u001b[1;33m==\u001b[0m \u001b[1;36m3\u001b[0m \u001b[1;32mand\u001b[0m \u001b[0misinstance\u001b[0m\u001b[1;33m(\u001b[0m\u001b[0mf\u001b[0m\u001b[1;33m,\u001b[0m \u001b[0mpathlib\u001b[0m\u001b[1;33m.\u001b[0m\u001b[0mPath\u001b[0m\u001b[1;33m)\u001b[0m\u001b[1;33m)\u001b[0m\u001b[1;33m:\u001b[0m\u001b[1;33m\u001b[0m\u001b[1;33m\u001b[0m\u001b[0m\n\u001b[0;32m    146\u001b[0m         \u001b[0mnew_fd\u001b[0m \u001b[1;33m=\u001b[0m \u001b[1;32mTrue\u001b[0m\u001b[1;33m\u001b[0m\u001b[1;33m\u001b[0m\u001b[0m\n\u001b[1;32m--> 147\u001b[1;33m         \u001b[0mf\u001b[0m \u001b[1;33m=\u001b[0m \u001b[0mopen\u001b[0m\u001b[1;33m(\u001b[0m\u001b[0mf\u001b[0m\u001b[1;33m,\u001b[0m \u001b[0mmode\u001b[0m\u001b[1;33m)\u001b[0m\u001b[1;33m\u001b[0m\u001b[1;33m\u001b[0m\u001b[0m\n\u001b[0m\u001b[0;32m    148\u001b[0m     \u001b[1;32mtry\u001b[0m\u001b[1;33m:\u001b[0m\u001b[1;33m\u001b[0m\u001b[1;33m\u001b[0m\u001b[0m\n\u001b[0;32m    149\u001b[0m         \u001b[1;32mreturn\u001b[0m \u001b[0mbody\u001b[0m\u001b[1;33m(\u001b[0m\u001b[0mf\u001b[0m\u001b[1;33m)\u001b[0m\u001b[1;33m\u001b[0m\u001b[1;33m\u001b[0m\u001b[0m\n",
      "\u001b[1;31mPermissionError\u001b[0m: [Errno 13] Permission denied: '/SourceNetModelDict_Final'"
     ]
    }
   ],
   "source": [
    "dropout = 0.350748\n",
    "learning_rate = 0.000146\n",
    "hidden_dim = 183\n",
    "v_dim = 21\n",
    "label_size = 2\n",
    "embedding_dim = 300\n",
    "\n",
    "train_batch = BatchWrapper(train_iter, \"lyrics\", [\"pos\", \"neg\"])\n",
    "valid_batch = BatchWrapper(val_iter, \"lyrics\", [\"pos\", \"neg\"])\n",
    "\n",
    "m_source = BiLSTMSourceNet(vocab_size = len(TEXT.vocab), embedding_dim = embedding_dim, \n",
    "                               hidden_dim = hidden_dim, label_size=label_size, v_dim = v_dim, \n",
    "                               pretrained_vec=TEXT.vocab.vectors, use_gpu = True, dropout = dropout)\n",
    "m_source.to(\"cuda\")\n",
    "opt = torch.optim.Adam(filter(lambda p: p.requires_grad, m_source.parameters()), learning_rate)\n",
    "\n",
    "dev_acc, src_attention = training_loop_DATN(model=m_source, training_iter=train_batch, \n",
    "                                                      dev_iter=valid_batch, loss_=F.kl_div, optim=opt, num_epochs=10, \n",
    "                                                      source_flag = True, batch_size = batch_size, verbose = True)\n",
    "\n"
   ]
  },
  {
   "cell_type": "code",
   "execution_count": 15,
   "metadata": {},
   "outputs": [],
   "source": [
    "torch.save(m_source.state_dict(), \"SourceNetModelDict_Final.pth\")"
   ]
  },
  {
   "cell_type": "code",
   "execution_count": null,
   "metadata": {},
   "outputs": [],
   "source": []
  }
 ],
 "metadata": {
  "kernelspec": {
   "display_name": "Python 3",
   "language": "python",
   "name": "python3"
  },
  "language_info": {
   "codemirror_mode": {
    "name": "ipython",
    "version": 3
   },
   "file_extension": ".py",
   "mimetype": "text/x-python",
   "name": "python",
   "nbconvert_exporter": "python",
   "pygments_lexer": "ipython3",
   "version": "3.7.3"
  }
 },
 "nbformat": 4,
 "nbformat_minor": 2
}
