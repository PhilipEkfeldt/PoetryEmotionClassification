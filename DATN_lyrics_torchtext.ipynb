{
 "cells": [
  {
   "cell_type": "code",
   "execution_count": 1,
   "metadata": {
    "colab": {},
    "colab_type": "code",
    "id": "cpN8-ceIVfWZ"
   },
   "outputs": [],
   "source": [
    "import modules.text_processing\n",
    "import torch\n",
    "import torch.nn.functional as F\n",
    "from imp import reload\n",
    "from modules.text_processing import read_split_file_lyrics, BatchWrapper, generate_iterators_lyrics\n"
   ]
  },
  {
   "cell_type": "code",
   "execution_count": 2,
   "metadata": {},
   "outputs": [],
   "source": [
    "#Read and split data\n",
    "train_path, val_path = read_split_file_lyrics(\"Data/lyrics_cleaned.csv\",\"tmp/\")"
   ]
  },
  {
   "cell_type": "code",
   "execution_count": 3,
   "metadata": {},
   "outputs": [],
   "source": [
    "#Create iterators\n",
    "torch.cuda.empty_cache() \n",
    "batch_size = 10\n",
    "train_iter, val_iter, TEXT = generate_iterators_lyrics(train_path, val_path, \n",
    "                                                           batch_size = batch_size, device=\"cuda\")\n",
    "\n"
   ]
  },
  {
   "cell_type": "code",
   "execution_count": 4,
   "metadata": {},
   "outputs": [],
   "source": [
    "#Taken and modified from lab/hw\n",
    "def evaluate(model, data_iter, batch_size):\n",
    "    model.eval()\n",
    "    val_loss = 0\n",
    "    total = 0\n",
    "    total_acc = 0\n",
    "    val_acc = 0\n",
    "    for i in range(len(data_iter)):\n",
    "        vectors,labels = next(data_iter.__iter__())\n",
    "        output = model(vectors)\n",
    "        #_, predicted = torch.topk(output.data, k=2, dim=1)\n",
    "        #predictions = torch.zeros(labels.size()).to(\"cuda\")\n",
    "        #predictions.scatter_(1, predicted, 1)\n",
    "        val_acc += ((output > 0.5) == labels.byte()).sum().item()\n",
    "        total_acc += labels.size(0)*2\n",
    "        val_loss += F.kl_div(output.log(), labels)\n",
    "        total +=1\n",
    "    return val_loss / total, val_acc / total_acc"
   ]
  },
  {
   "cell_type": "code",
   "execution_count": 5,
   "metadata": {},
   "outputs": [],
   "source": [
    "#Taken and modified from lab/hw\n",
    "def training_loop(batch_size, num_epochs, model, loss_, optim, training_iter, dev_iter, verbose=True):\n",
    "    \n",
    "    epoch = 0\n",
    "    total_batches = int(len(training_iter))\n",
    "    dev_accuracies = []\n",
    "    test_accuracies = []\n",
    "    while epoch <= num_epochs:\n",
    "        print(\"Training...\")\n",
    "        for i in range(total_batches):\n",
    "            model.train()\n",
    "            vectors, labels = next(training_iter.__iter__())\n",
    "            model.zero_grad()\n",
    "            #print(vectors)\n",
    "            #print(labels)\n",
    "            output = model(vectors)\n",
    "            lossy = loss_(output.log(), labels)\n",
    "            lossy.backward()\n",
    "            torch.nn.utils.clip_grad_norm_(model.parameters(), 5.0)\n",
    "            optim.step()\n",
    "\n",
    "\n",
    "        model.eval()\n",
    "        print(\"Evaluating dev...\")\n",
    "        eval_loss, eval_acc = evaluate(model, dev_iter, batch_size)\n",
    "        dev_accuracies.append(eval_acc)\n",
    "        if verbose:\n",
    "            print(\"Epoch %i; Loss %f; Dev loss %f, Dev acc: %f\"  %(epoch, lossy.item(), eval_loss, eval_acc))\n",
    "        epoch += 1    \n",
    "    best_dev = max(dev_accuracies)\n",
    "    best_test = test_accuracies[np.argmax(dev_accuracies)]\n",
    "    return best_dev, best_test"
   ]
  },
  {
   "cell_type": "code",
   "execution_count": 6,
   "metadata": {},
   "outputs": [
    {
     "name": "stdout",
     "output_type": "stream",
     "text": [
      "Iteration:  0\n",
      "Training...\n"
     ]
    },
    {
     "name": "stderr",
     "output_type": "stream",
     "text": [
      "/home/philip/.local/lib/python3.7/site-packages/torch/nn/functional.py:1906: UserWarning: reduction: 'mean' divides the total loss by both the batch size and the support size.'batchmean' divides only by the batch size, and aligns with the KL div math definition.'mean' will be changed to behave the same as 'batchmean' in the next major release.\n",
      "  warnings.warn(\"reduction: 'mean' divides the total loss by both the batch size and the support size.\"\n"
     ]
    },
    {
     "name": "stdout",
     "output_type": "stream",
     "text": [
      "Evaluating dev...\n",
      "Epoch 0; Loss 0.321692; Dev loss 0.331445, Dev acc: 0.565000\n",
      "Training...\n",
      "Evaluating dev...\n",
      "Epoch 1; Loss 0.316250; Dev loss 0.294673, Dev acc: 0.615000\n",
      "Training...\n",
      "Evaluating dev...\n",
      "Epoch 2; Loss 0.296457; Dev loss 0.302922, Dev acc: 0.650000\n",
      "Training...\n",
      "Evaluating dev...\n",
      "Epoch 3; Loss 0.280436; Dev loss 0.249284, Dev acc: 0.805000\n",
      "Training...\n",
      "Evaluating dev...\n",
      "Epoch 4; Loss 0.258112; Dev loss 0.287795, Dev acc: 0.730000\n",
      "Training...\n",
      "Evaluating dev...\n",
      "Epoch 5; Loss 0.191682; Dev loss 0.300858, Dev acc: 0.725000\n",
      "Training...\n",
      "Evaluating dev...\n",
      "Epoch 6; Loss 0.178601; Dev loss 0.236032, Dev acc: 0.810000\n",
      "Training...\n",
      "Evaluating dev...\n",
      "Epoch 7; Loss 0.197182; Dev loss 0.320615, Dev acc: 0.690000\n",
      "Training...\n",
      "Evaluating dev...\n",
      "Epoch 8; Loss 0.205936; Dev loss 0.317258, Dev acc: 0.705000\n",
      "Training...\n",
      "Evaluating dev...\n",
      "Epoch 9; Loss 0.125670; Dev loss 0.291099, Dev acc: 0.720000\n",
      "Training...\n",
      "Evaluating dev...\n",
      "Epoch 10; Loss 0.092259; Dev loss 0.241016, Dev acc: 0.780000\n"
     ]
    },
    {
     "ename": "IndexError",
     "evalue": "list index out of range",
     "output_type": "error",
     "traceback": [
      "\u001b[0;31m---------------------------------------------------------------------------\u001b[0m",
      "\u001b[0;31mIndexError\u001b[0m                                Traceback (most recent call last)",
      "\u001b[0;32m<ipython-input-6-6646a2cd338f>\u001b[0m in \u001b[0;36m<module>\u001b[0;34m\u001b[0m\n\u001b[1;32m     41\u001b[0m     \u001b[0mm\u001b[0m\u001b[0;34m.\u001b[0m\u001b[0mto\u001b[0m\u001b[0;34m(\u001b[0m\u001b[0;34m\"cuda\"\u001b[0m\u001b[0;34m)\u001b[0m\u001b[0;34m\u001b[0m\u001b[0;34m\u001b[0m\u001b[0m\n\u001b[1;32m     42\u001b[0m     \u001b[0mopt\u001b[0m \u001b[0;34m=\u001b[0m \u001b[0mtorch\u001b[0m\u001b[0;34m.\u001b[0m\u001b[0moptim\u001b[0m\u001b[0;34m.\u001b[0m\u001b[0mAdam\u001b[0m\u001b[0;34m(\u001b[0m\u001b[0mfilter\u001b[0m\u001b[0;34m(\u001b[0m\u001b[0;32mlambda\u001b[0m \u001b[0mp\u001b[0m\u001b[0;34m:\u001b[0m \u001b[0mp\u001b[0m\u001b[0;34m.\u001b[0m\u001b[0mrequires_grad\u001b[0m\u001b[0;34m,\u001b[0m \u001b[0mm\u001b[0m\u001b[0;34m.\u001b[0m\u001b[0mparameters\u001b[0m\u001b[0;34m(\u001b[0m\u001b[0;34m)\u001b[0m\u001b[0;34m)\u001b[0m\u001b[0;34m,\u001b[0m \u001b[0mlearning_rate\u001b[0m\u001b[0;34m)\u001b[0m\u001b[0;34m\u001b[0m\u001b[0;34m\u001b[0m\u001b[0m\n\u001b[0;32m---> 43\u001b[0;31m     \u001b[0mdev_acc\u001b[0m\u001b[0;34m,\u001b[0m \u001b[0mtest_acc\u001b[0m \u001b[0;34m=\u001b[0m \u001b[0mtraining_loop\u001b[0m\u001b[0;34m(\u001b[0m\u001b[0mmodel\u001b[0m\u001b[0;34m=\u001b[0m\u001b[0mm\u001b[0m\u001b[0;34m,\u001b[0m \u001b[0mtraining_iter\u001b[0m\u001b[0;34m=\u001b[0m\u001b[0mtrain_batch\u001b[0m\u001b[0;34m,\u001b[0m \u001b[0mdev_iter\u001b[0m\u001b[0;34m=\u001b[0m\u001b[0mvalid_batch\u001b[0m\u001b[0;34m,\u001b[0m \u001b[0mloss_\u001b[0m\u001b[0;34m=\u001b[0m\u001b[0mF\u001b[0m\u001b[0;34m.\u001b[0m\u001b[0mkl_div\u001b[0m\u001b[0;34m,\u001b[0m \u001b[0moptim\u001b[0m\u001b[0;34m=\u001b[0m\u001b[0mopt\u001b[0m\u001b[0;34m,\u001b[0m \u001b[0mnum_epochs\u001b[0m\u001b[0;34m=\u001b[0m\u001b[0;36m10\u001b[0m\u001b[0;34m,\u001b[0m \u001b[0mbatch_size\u001b[0m \u001b[0;34m=\u001b[0m \u001b[0mbatch_size\u001b[0m\u001b[0;34m)\u001b[0m\u001b[0;34m\u001b[0m\u001b[0;34m\u001b[0m\u001b[0m\n\u001b[0m\u001b[1;32m     44\u001b[0m \u001b[0;34m\u001b[0m\u001b[0m\n\u001b[1;32m     45\u001b[0m     \u001b[0mdropouts\u001b[0m\u001b[0;34m.\u001b[0m\u001b[0mappend\u001b[0m\u001b[0;34m(\u001b[0m\u001b[0mdropout\u001b[0m\u001b[0;34m)\u001b[0m\u001b[0;34m\u001b[0m\u001b[0;34m\u001b[0m\u001b[0m\n",
      "\u001b[0;32m<ipython-input-5-5f35f67dfba1>\u001b[0m in \u001b[0;36mtraining_loop\u001b[0;34m(batch_size, num_epochs, model, loss_, optim, training_iter, dev_iter, verbose)\u001b[0m\n\u001b[1;32m     29\u001b[0m         \u001b[0mepoch\u001b[0m \u001b[0;34m+=\u001b[0m \u001b[0;36m1\u001b[0m\u001b[0;34m\u001b[0m\u001b[0;34m\u001b[0m\u001b[0m\n\u001b[1;32m     30\u001b[0m     \u001b[0mbest_dev\u001b[0m \u001b[0;34m=\u001b[0m \u001b[0mmax\u001b[0m\u001b[0;34m(\u001b[0m\u001b[0mdev_accuracies\u001b[0m\u001b[0;34m)\u001b[0m\u001b[0;34m\u001b[0m\u001b[0;34m\u001b[0m\u001b[0m\n\u001b[0;32m---> 31\u001b[0;31m     \u001b[0mbest_test\u001b[0m \u001b[0;34m=\u001b[0m \u001b[0mtest_accuracies\u001b[0m\u001b[0;34m[\u001b[0m\u001b[0mnp\u001b[0m\u001b[0;34m.\u001b[0m\u001b[0margmax\u001b[0m\u001b[0;34m(\u001b[0m\u001b[0mdev_accuracies\u001b[0m\u001b[0;34m)\u001b[0m\u001b[0;34m]\u001b[0m\u001b[0;34m\u001b[0m\u001b[0;34m\u001b[0m\u001b[0m\n\u001b[0m\u001b[1;32m     32\u001b[0m     \u001b[0;32mreturn\u001b[0m \u001b[0mbest_dev\u001b[0m\u001b[0;34m,\u001b[0m \u001b[0mbest_test\u001b[0m\u001b[0;34m\u001b[0m\u001b[0;34m\u001b[0m\u001b[0m\n",
      "\u001b[0;31mIndexError\u001b[0m: list index out of range"
     ]
    }
   ],
   "source": [
    "import numpy as np\n",
    "import pandas as pd\n",
    "import modules.models\n",
    "reload(modules.models)\n",
    "from modules.models import BiLSTMBaseline\n",
    "\n",
    "dropout_min = 0.2\n",
    "dropout_max = 0.8\n",
    "\n",
    "learning_rate_min = 0.0001\n",
    "learning_rate_max = 0.01\n",
    "\n",
    "hidden_dim_min = 50\n",
    "hidden_dim_max = 300\n",
    "\n",
    "v_dim_min = 5\n",
    "v_dim_max = 30\n",
    "label_size = 2\n",
    "embedding_dim = 300\n",
    "\n",
    "dropouts = []\n",
    "learning_rates = []\n",
    "hidden_dims = []\n",
    "v_dims = []\n",
    "dev_accuracies = []\n",
    "test_accuracies = []\n",
    "\n",
    "for i in range(60):\n",
    "    print(\"Iteration: \", i)\n",
    "    #Create wrappers for iterators\n",
    "    train_batch = BatchWrapper(train_iter, \"lyrics\", [\"pos\", \"neg\"])\n",
    "    valid_batch = BatchWrapper(val_iter, \"lyrics\", [\"pos\", \"neg\"])\n",
    "    \n",
    "    dropout = np.random.uniform(dropout_min, dropout_max)\n",
    "    learning_rate = 10**np.random.uniform(np.log10(learning_rate_min), np.log10(learning_rate_max))\n",
    "    hidden_dim = np.random.randint(hidden_dim_min, hidden_dim_max)\n",
    "    v_dim = np.random.randint(v_dim_min, v_dim_max)\n",
    "    \n",
    "    m = BiLSTMBaseline(vocab_size = len(TEXT.vocab), embedding_dim = embedding_dim, hidden_dim = hidden_dim, label_size=label_size, \n",
    "                       v_dim = v_dim, pretrained_vec=TEXT.vocab.vectors, use_gpu = True, dropout = dropout)\n",
    "    m.to(\"cuda\")\n",
    "    opt = torch.optim.Adam(filter(lambda p: p.requires_grad, m.parameters()), learning_rate)\n",
    "    dev_acc, test_acc = training_loop(model=m, training_iter=train_batch, dev_iter=valid_batch, loss_=F.kl_div, optim=opt, num_epochs=10, batch_size = batch_size)\n",
    "\n",
    "    dropouts.append(dropout)\n",
    "    learning_rates.append(learning_rate)\n",
    "    hidden_dims.append(hidden_dim)\n",
    "    v_dims.append(v_dim)\n",
    "    dev_accuracies.append(dev_acc)\n",
    "    test_accuracies.append(test_acc)\n",
    "    df = pd.DataFrame({\"droprate\": dropouts, \"learning_rates\": learning_rates, \"hidden_dim\": hidden_dims, \"v_dim\": v_dims, \"dev_accuracy\": dev_accuracies, \"test_accuracy\": test_accuracies})\n",
    "    df.to_csv(\"lyrics_results_test.csv\")\n",
    "\n",
    "    \n",
    "df = pd.DataFrame({\"droprate\": dropouts, \"learning_rates\": learning_rates, \"hidden_dim\": hidden_dims, \"v_dim\": v_dims, \"dev_accuracy\": dev_accuracies, \"test_accuracy\": test_accuracies})\n",
    "\n",
    "    \n"
   ]
  },
  {
   "cell_type": "code",
   "execution_count": null,
   "metadata": {},
   "outputs": [],
   "source": [
    "df.sort_values(\"dev_accuracy\")"
   ]
  },
  {
   "cell_type": "code",
   "execution_count": null,
   "metadata": {},
   "outputs": [],
   "source": []
  },
  {
   "cell_type": "code",
   "execution_count": null,
   "metadata": {},
   "outputs": [],
   "source": []
  }
 ],
 "metadata": {
  "colab": {
   "collapsed_sections": [],
   "name": "Baseline.ipynb",
   "provenance": [],
   "version": "0.3.2"
  },
  "kernelspec": {
   "display_name": "Python 3",
   "language": "python",
   "name": "python3"
  },
  "language_info": {
   "codemirror_mode": {
    "name": "ipython",
    "version": 3
   },
   "file_extension": ".py",
   "mimetype": "text/x-python",
   "name": "python",
   "nbconvert_exporter": "python",
   "pygments_lexer": "ipython3",
   "version": "3.7.1"
  }
 },
 "nbformat": 4,
 "nbformat_minor": 2
}
